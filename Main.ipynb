{
 "cells": [
  {
   "cell_type": "code",
   "execution_count": 1,
   "metadata": {},
   "outputs": [],
   "source": [
    "# Larger CNN for the MNIST Dataset\n",
    "import numpy as np\n",
    "import tensorflow as tf\n",
    "from tensorflow import keras\n",
    "import matplotlib.pyplot as plt\n",
    "%matplotlib inline\n",
    "from keras.datasets import mnist\n",
    "from keras.models import Sequential\n",
    "from keras.layers import Dense\n",
    "from keras.layers import Dropout\n",
    "from keras.layers import Flatten\n",
    "from keras.layers.convolutional import Conv2D\n",
    "from keras.layers.convolutional import MaxPooling2D\n",
    "from keras.utils import np_utils\n"
   ]
  },
  {
   "cell_type": "code",
   "execution_count": 2,
   "metadata": {},
   "outputs": [],
   "source": [
    "# load data\n",
    "(X_train, y_train), (X_test, y_test) = mnist.load_data()\n"
   ]
  },
  {
   "cell_type": "code",
   "execution_count": 3,
   "metadata": {},
   "outputs": [],
   "source": [
    "# reshape to be [samples][width][height][channels]\n",
    "X_train = X_train.reshape((X_train.shape[0], 28, 28, 1)).astype('float32')\n",
    "X_test = X_test.reshape((X_test.shape[0], 28, 28, 1)).astype('float32')\n"
   ]
  },
  {
   "cell_type": "code",
   "execution_count": 4,
   "metadata": {},
   "outputs": [
    {
     "data": {
      "text/plain": [
       "(10000, 28, 28, 1)"
      ]
     },
     "execution_count": 4,
     "metadata": {},
     "output_type": "execute_result"
    }
   ],
   "source": [
    "X_train.shape\n",
    "X_test.shape"
   ]
  },
  {
   "cell_type": "code",
   "execution_count": 5,
   "metadata": {},
   "outputs": [
    {
     "data": {
      "image/png": "[encoded data removed]",
      "text/plain": [
       "<Figure size 432x288 with 4 Axes>"
      ]
     },
     "metadata": {
      "needs_background": "light"
     },
     "output_type": "display_data"
    }
   ],
   "source": [
    "plt.subplot(221)\n",
    "plt.imshow(X_train[0], cmap=plt.get_cmap('gray'))\n",
    "plt.subplot(222)\n",
    "plt.imshow(X_train[1], cmap=plt.get_cmap('gray'))\n",
    "plt.subplot(223)\n",
    "plt.imshow(X_train[2], cmap=plt.get_cmap('gray'))\n",
    "plt.subplot(224)\n",
    "plt.imshow(X_train[3], cmap=plt.get_cmap('gray'))\n",
    "# show the plot\n",
    "plt.show()"
   ]
  },
  {
   "cell_type": "code",
   "execution_count": 6,
   "metadata": {},
   "outputs": [
    {
     "data": {
      "text/plain": [
       "array([5, 0, 4, 1], dtype=uint8)"
      ]
     },
     "execution_count": 6,
     "metadata": {},
     "output_type": "execute_result"
    }
   ],
   "source": [
    "y_train[:4]"
   ]
  },
  {
   "cell_type": "code",
   "execution_count": 7,
   "metadata": {},
   "outputs": [],
   "source": [
    "# normalize inputs from 0-255 to 0-1\n",
    "X_train = X_train / 255\n",
    "X_test = X_test / 255\n"
   ]
  },
  {
   "cell_type": "code",
   "execution_count": 8,
   "metadata": {},
   "outputs": [],
   "source": [
    "# one hot encode outputs\n",
    "y_train = np_utils.to_categorical(y_train)\n",
    "y_test = np_utils.to_categorical(y_test)\n",
    "num_classes = y_test.shape[1]\n"
   ]
  },
  {
   "cell_type": "code",
   "execution_count": 9,
   "metadata": {},
   "outputs": [],
   "source": [
    "# create model\n",
    "model = Sequential()\n",
    "model.add(Conv2D(30, (5, 5), input_shape=(28, 28, 1), activation='relu'))\n",
    "model.add(MaxPooling2D())\n",
    "model.add(Conv2D(15, (3, 3), activation='relu'))\n",
    "model.add(MaxPooling2D())\n",
    "model.add(Dropout(0.2))\n",
    "model.add(Flatten())\n",
    "model.add(Dense(128, activation='relu'))\n",
    "model.add(Dense(50, activation='relu'))\n",
    "model.add(Dense(num_classes, activation='softmax'))\n"
   ]
  },
  {
   "cell_type": "code",
   "execution_count": 10,
   "metadata": {},
   "outputs": [],
   "source": [
    "# Compile model\n",
    "model.compile(loss='categorical_crossentropy', optimizer='adam', metrics=['accuracy'])\n"
   ]
  },
  {
   "cell_type": "code",
   "execution_count": 11,
   "metadata": {},
   "outputs": [
    {
     "name": "stdout",
     "output_type": "stream",
     "text": [
      "Epoch 1/10\n",
      "300/300 [==============================] - 17s 55ms/step - loss: 0.8544 - accuracy: 0.7161 - val_loss: 0.0751 - val_accuracy: 0.9775\n",
      "Epoch 2/10\n",
      "300/300 [==============================] - 16s 54ms/step - loss: 0.1064 - accuracy: 0.9666 - val_loss: 0.0504 - val_accuracy: 0.9832\n",
      "Epoch 3/10\n",
      "300/300 [==============================] - 16s 55ms/step - loss: 0.0769 - accuracy: 0.9757 - val_loss: 0.0410 - val_accuracy: 0.9870\n",
      "Epoch 4/10\n",
      "300/300 [==============================] - 16s 53ms/step - loss: 0.0579 - accuracy: 0.9821 - val_loss: 0.0379 - val_accuracy: 0.9878\n",
      "Epoch 5/10\n",
      "300/300 [==============================] - 16s 54ms/step - loss: 0.0494 - accuracy: 0.9842 - val_loss: 0.0300 - val_accuracy: 0.9896\n",
      "Epoch 6/10\n",
      "300/300 [==============================] - 16s 54ms/step - loss: 0.0428 - accuracy: 0.9863 - val_loss: 0.0331 - val_accuracy: 0.9880\n",
      "Epoch 7/10\n",
      "300/300 [==============================] - 16s 54ms/step - loss: 0.0389 - accuracy: 0.9871 - val_loss: 0.0292 - val_accuracy: 0.9894\n",
      "Epoch 8/10\n",
      "300/300 [==============================] - 16s 53ms/step - loss: 0.0374 - accuracy: 0.9880 - val_loss: 0.0299 - val_accuracy: 0.9900\n",
      "Epoch 9/10\n",
      "300/300 [==============================] - 16s 53ms/step - loss: 0.0313 - accuracy: 0.9898 - val_loss: 0.0253 - val_accuracy: 0.9910\n",
      "Epoch 10/10\n",
      "300/300 [==============================] - 16s 53ms/step - loss: 0.0314 - accuracy: 0.9893 - val_loss: 0.0229 - val_accuracy: 0.9920\n"
     ]
    }
   ],
   "source": [
    "# Fit the model\n",
    "model_history=model.fit(X_train, y_train, validation_data=(X_test, y_test), epochs=10, batch_size=200)\n"
   ]
  },
  {
   "cell_type": "code",
   "execution_count": 12,
   "metadata": {},
   "outputs": [],
   "source": [
    "model.save('Model/model.h5')"
   ]
  },
  {
   "cell_type": "code",
   "execution_count": 13,
   "metadata": {},
   "outputs": [],
   "source": [
    "model = keras.models.load_model('Model/model.h5')"
   ]
  },
  {
   "cell_type": "code",
   "execution_count": 14,
   "metadata": {},
   "outputs": [
    {
     "data": {
      "text/plain": [
       "{'verbose': 1, 'epochs': 10, 'steps': 300}"
      ]
     },
     "execution_count": 14,
     "metadata": {},
     "output_type": "execute_result"
    }
   ],
   "source": [
    "model_history.params"
   ]
  },
  {
   "cell_type": "code",
   "execution_count": 15,
   "metadata": {},
   "outputs": [
    {
     "data": {
      "text/plain": [
       "{'loss': [0.3906930983066559,\n",
       "  0.0962003692984581,\n",
       "  0.0726802870631218,\n",
       "  0.056430887430906296,\n",
       "  0.048868123441934586,\n",
       "  0.04425162076950073,\n",
       "  0.03772105649113655,\n",
       "  0.03480159491300583,\n",
       "  0.0334259457886219,\n",
       "  0.03139522671699524],\n",
       " 'accuracy': [0.8752833604812622,\n",
       "  0.9698166847229004,\n",
       "  0.9771999716758728,\n",
       "  0.9825166463851929,\n",
       "  0.984499990940094,\n",
       "  0.9861833453178406,\n",
       "  0.9878166913986206,\n",
       "  0.9885500073432922,\n",
       "  0.9890166521072388,\n",
       "  0.9895666837692261],\n",
       " 'val_loss': [0.07505365461111069,\n",
       "  0.05043815076351166,\n",
       "  0.04100572317838669,\n",
       "  0.03790677338838577,\n",
       "  0.02998071350157261,\n",
       "  0.033111732453107834,\n",
       "  0.02922508865594864,\n",
       "  0.029850009828805923,\n",
       "  0.025348326191306114,\n",
       "  0.022888170555233955],\n",
       " 'val_accuracy': [0.9775000214576721,\n",
       "  0.9832000136375427,\n",
       "  0.9869999885559082,\n",
       "  0.9878000020980835,\n",
       "  0.9896000027656555,\n",
       "  0.9879999756813049,\n",
       "  0.9894000291824341,\n",
       "  0.9900000095367432,\n",
       "  0.9909999966621399,\n",
       "  0.9919999837875366]}"
      ]
     },
     "execution_count": 15,
     "metadata": {},
     "output_type": "execute_result"
    }
   ],
   "source": [
    "model_history.history"
   ]
  },
  {
   "cell_type": "code",
   "execution_count": 16,
   "metadata": {},
   "outputs": [
    {
     "data": {
      "text/plain": [
       "[]"
      ]
     },
     "execution_count": 16,
     "metadata": {},
     "output_type": "execute_result"
    },
    {
     "data": {
      "image/png": "[encoded data removed]",
      "text/plain": [
       "<Figure size 576x504 with 1 Axes>"
      ]
     },
     "metadata": {
      "needs_background": "light"
     },
     "output_type": "display_data"
    }
   ],
   "source": [
    "import pandas as pd\n",
    "\n",
    "pd.DataFrame(model_history.history).plot(figsize=(8,7))\n",
    "plt.grid()\n",
    "plt.plot()"
   ]
  },
  {
   "cell_type": "code",
   "execution_count": 17,
   "metadata": {},
   "outputs": [
    {
     "name": "stdout",
     "output_type": "stream",
     "text": [
      "313/313 [==============================] - 1s 4ms/step - loss: 0.0229 - accuracy: 0.9920\n"
     ]
    },
    {
     "data": {
      "text/plain": [
       "[0.022888166829943657, 0.9919999837875366]"
      ]
     },
     "execution_count": 17,
     "metadata": {},
     "output_type": "execute_result"
    }
   ],
   "source": [
    "model.evaluate(X_test,y_test, verbose=1)"
   ]
  }
 ],
 "metadata": {
  "kernelspec": {
   "display_name": "Python 3",
   "language": "python",
   "name": "python3"
  },
  "language_info": {
   "codemirror_mode": {
    "name": "ipython",
    "version": 3
   },
   "file_extension": ".py",
   "mimetype": "text/x-python",
   "name": "python",
   "nbconvert_exporter": "python",
   "pygments_lexer": "ipython3",
   "version": "3.8.5"
  }
 },
 "nbformat": 4,
 "nbformat_minor": 4
}
